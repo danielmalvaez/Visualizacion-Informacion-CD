{
 "cells": [
  {
   "attachments": {},
   "cell_type": "markdown",
   "metadata": {},
   "source": [
    "# Tarea 5  \n",
    "**Alumno:** Axel Daniel Malváez Flores  \n",
    "**No.Cta:** 318315126  \n",
    "**Materia:** Visualización de la Información"
   ]
  },
  {
   "attachments": {},
   "cell_type": "markdown",
   "metadata": {},
   "source": [
    "## Actividades"
   ]
  },
  {
   "attachments": {},
   "cell_type": "markdown",
   "metadata": {},
   "source": [
    "## a) Filtrado de datos: Realice la lectura del archivo “titanic3.csv” y responda las siguientes preguntas:"
   ]
  },
  {
   "cell_type": "code",
   "execution_count": 1,
   "metadata": {},
   "outputs": [],
   "source": [
    "import numpy as np\n",
    "import pandas as pd"
   ]
  },
  {
   "cell_type": "code",
   "execution_count": 2,
   "metadata": {},
   "outputs": [
    {
     "data": {
      "text/html": [
       "<div>\n",
       "<style scoped>\n",
       "    .dataframe tbody tr th:only-of-type {\n",
       "        vertical-align: middle;\n",
       "    }\n",
       "\n",
       "    .dataframe tbody tr th {\n",
       "        vertical-align: top;\n",
       "    }\n",
       "\n",
       "    .dataframe thead th {\n",
       "        text-align: right;\n",
       "    }\n",
       "</style>\n",
       "<table border=\"1\" class=\"dataframe\">\n",
       "  <thead>\n",
       "    <tr style=\"text-align: right;\">\n",
       "      <th></th>\n",
       "      <th>pclass</th>\n",
       "      <th>survived</th>\n",
       "      <th>name</th>\n",
       "      <th>sex</th>\n",
       "      <th>age</th>\n",
       "      <th>sibsp</th>\n",
       "      <th>parch</th>\n",
       "      <th>ticket</th>\n",
       "      <th>fare</th>\n",
       "      <th>cabin</th>\n",
       "      <th>embarked</th>\n",
       "      <th>boat</th>\n",
       "      <th>body</th>\n",
       "      <th>home.dest</th>\n",
       "    </tr>\n",
       "  </thead>\n",
       "  <tbody>\n",
       "    <tr>\n",
       "      <th>0</th>\n",
       "      <td>1</td>\n",
       "      <td>1</td>\n",
       "      <td>Allen, Miss. Elisabeth Walton</td>\n",
       "      <td>female</td>\n",
       "      <td>29.0000</td>\n",
       "      <td>0</td>\n",
       "      <td>0</td>\n",
       "      <td>24160</td>\n",
       "      <td>211.3375</td>\n",
       "      <td>B5</td>\n",
       "      <td>S</td>\n",
       "      <td>2</td>\n",
       "      <td>NaN</td>\n",
       "      <td>St Louis, MO</td>\n",
       "    </tr>\n",
       "    <tr>\n",
       "      <th>1</th>\n",
       "      <td>1</td>\n",
       "      <td>1</td>\n",
       "      <td>Allison, Master. Hudson Trevor</td>\n",
       "      <td>male</td>\n",
       "      <td>0.9167</td>\n",
       "      <td>1</td>\n",
       "      <td>2</td>\n",
       "      <td>113781</td>\n",
       "      <td>151.5500</td>\n",
       "      <td>C22 C26</td>\n",
       "      <td>S</td>\n",
       "      <td>11</td>\n",
       "      <td>NaN</td>\n",
       "      <td>Montreal, PQ / Chesterville, ON</td>\n",
       "    </tr>\n",
       "    <tr>\n",
       "      <th>2</th>\n",
       "      <td>1</td>\n",
       "      <td>0</td>\n",
       "      <td>Allison, Miss. Helen Loraine</td>\n",
       "      <td>female</td>\n",
       "      <td>2.0000</td>\n",
       "      <td>1</td>\n",
       "      <td>2</td>\n",
       "      <td>113781</td>\n",
       "      <td>151.5500</td>\n",
       "      <td>C22 C26</td>\n",
       "      <td>S</td>\n",
       "      <td>NaN</td>\n",
       "      <td>NaN</td>\n",
       "      <td>Montreal, PQ / Chesterville, ON</td>\n",
       "    </tr>\n",
       "    <tr>\n",
       "      <th>3</th>\n",
       "      <td>1</td>\n",
       "      <td>0</td>\n",
       "      <td>Allison, Mr. Hudson Joshua Creighton</td>\n",
       "      <td>male</td>\n",
       "      <td>30.0000</td>\n",
       "      <td>1</td>\n",
       "      <td>2</td>\n",
       "      <td>113781</td>\n",
       "      <td>151.5500</td>\n",
       "      <td>C22 C26</td>\n",
       "      <td>S</td>\n",
       "      <td>NaN</td>\n",
       "      <td>135.0</td>\n",
       "      <td>Montreal, PQ / Chesterville, ON</td>\n",
       "    </tr>\n",
       "    <tr>\n",
       "      <th>4</th>\n",
       "      <td>1</td>\n",
       "      <td>0</td>\n",
       "      <td>Allison, Mrs. Hudson J C (Bessie Waldo Daniels)</td>\n",
       "      <td>female</td>\n",
       "      <td>25.0000</td>\n",
       "      <td>1</td>\n",
       "      <td>2</td>\n",
       "      <td>113781</td>\n",
       "      <td>151.5500</td>\n",
       "      <td>C22 C26</td>\n",
       "      <td>S</td>\n",
       "      <td>NaN</td>\n",
       "      <td>NaN</td>\n",
       "      <td>Montreal, PQ / Chesterville, ON</td>\n",
       "    </tr>\n",
       "  </tbody>\n",
       "</table>\n",
       "</div>"
      ],
      "text/plain": [
       "   pclass  survived                                             name     sex  \\\n",
       "0       1         1                    Allen, Miss. Elisabeth Walton  female   \n",
       "1       1         1                   Allison, Master. Hudson Trevor    male   \n",
       "2       1         0                     Allison, Miss. Helen Loraine  female   \n",
       "3       1         0             Allison, Mr. Hudson Joshua Creighton    male   \n",
       "4       1         0  Allison, Mrs. Hudson J C (Bessie Waldo Daniels)  female   \n",
       "\n",
       "       age  sibsp  parch  ticket      fare    cabin embarked boat   body  \\\n",
       "0  29.0000      0      0   24160  211.3375       B5        S    2    NaN   \n",
       "1   0.9167      1      2  113781  151.5500  C22 C26        S   11    NaN   \n",
       "2   2.0000      1      2  113781  151.5500  C22 C26        S  NaN    NaN   \n",
       "3  30.0000      1      2  113781  151.5500  C22 C26        S  NaN  135.0   \n",
       "4  25.0000      1      2  113781  151.5500  C22 C26        S  NaN    NaN   \n",
       "\n",
       "                         home.dest  \n",
       "0                     St Louis, MO  \n",
       "1  Montreal, PQ / Chesterville, ON  \n",
       "2  Montreal, PQ / Chesterville, ON  \n",
       "3  Montreal, PQ / Chesterville, ON  \n",
       "4  Montreal, PQ / Chesterville, ON  "
      ]
     },
     "execution_count": 2,
     "metadata": {},
     "output_type": "execute_result"
    }
   ],
   "source": [
    "titanic = pd.read_csv('titanic3.csv')\n",
    "titanic.head()"
   ]
  },
  {
   "attachments": {},
   "cell_type": "markdown",
   "metadata": {},
   "source": [
    "### i. ¿Cuántos cuerpos fueron encontrados?"
   ]
  },
  {
   "attachments": {},
   "cell_type": "markdown",
   "metadata": {},
   "source": [
    "Veamos la columna body y encontremos aquellos en los que no sean nulos sus valores"
   ]
  },
  {
   "cell_type": "code",
   "execution_count": 3,
   "metadata": {},
   "outputs": [
    {
     "name": "stdout",
     "output_type": "stream",
     "text": [
      "Total cuerpos encontrados fueron : 121\n"
     ]
    }
   ],
   "source": [
    "# We assume that 1 is yes and 0 is no\n",
    "found_bodies = titanic[titanic['body'].notnull()]\n",
    "print(f'Total cuerpos encontrados fueron : {len(found_bodies)}')"
   ]
  },
  {
   "attachments": {},
   "cell_type": "markdown",
   "metadata": {},
   "source": [
    "### ii. ¿Cuántos de ellos fueron hombres mayores de 40 años?"
   ]
  },
  {
   "cell_type": "code",
   "execution_count": 4,
   "metadata": {},
   "outputs": [
    {
     "name": "stdout",
     "output_type": "stream",
     "text": [
      "Total hombres sin vida mayores a 40 : 39\n"
     ]
    }
   ],
   "source": [
    "men_40 = found_bodies[(found_bodies['age'] > 40) & \n",
    "                      (found_bodies['sex'] == 'male')]\n",
    "print(f'Total hombres sin vida mayores a 40 : {len(men_40)}')"
   ]
  },
  {
   "attachments": {},
   "cell_type": "markdown",
   "metadata": {},
   "source": [
    "### iii. ¿Cuántas mujeres desaparecieron entre las edades de 15 a 35 años?"
   ]
  },
  {
   "attachments": {},
   "cell_type": "markdown",
   "metadata": {},
   "source": [
    "Supondremos que las mujeres desaparecidas fueron aquellas que no sobrevivieron y cuyo valor en cuerpo es nulo"
   ]
  },
  {
   "cell_type": "code",
   "execution_count": 5,
   "metadata": {},
   "outputs": [
    {
     "name": "stdout",
     "output_type": "stream",
     "text": [
      "Total de mujeres desaparecidas entre 15 y 35 años : 51\n"
     ]
    }
   ],
   "source": [
    "disappeared_women = titanic[(titanic['sex'] == 'female') & \n",
    "                            (titanic['survived'] == 0) & \n",
    "                            (titanic['body'].isnull()) &\n",
    "                            (titanic['age'] >= 15) & (titanic['age'] <= 35)]\n",
    "print(f'Total de mujeres desaparecidas entre 15 y 35 años : {len(disappeared_women)}')"
   ]
  },
  {
   "attachments": {},
   "cell_type": "markdown",
   "metadata": {},
   "source": [
    "### iv. ¿Cuántos hombres mayores de 20 años sobrevivieron?"
   ]
  },
  {
   "cell_type": "code",
   "execution_count": 6,
   "metadata": {},
   "outputs": [
    {
     "name": "stdout",
     "output_type": "stream",
     "text": [
      "Total de hombres mayores de 20 años que sobrevivieron : 96\n"
     ]
    }
   ],
   "source": [
    "survivor_20 = titanic[(titanic['sex'] == 'male') & \n",
    "                      (titanic['age'] > 20) & \n",
    "                      (titanic['survived'] == 1) ]\n",
    "\n",
    "print(f'Total de hombres mayores de 20 años que sobrevivieron : {len(survivor_20)}')"
   ]
  },
  {
   "attachments": {},
   "cell_type": "markdown",
   "metadata": {},
   "source": [
    "### v. ¿Cuántas mujeres menores de 25 años sobrevivieron?"
   ]
  },
  {
   "cell_type": "code",
   "execution_count": 7,
   "metadata": {},
   "outputs": [
    {
     "name": "stdout",
     "output_type": "stream",
     "text": [
      "Total de mujeres menores de 25 años que sobrevivieron : 124\n"
     ]
    }
   ],
   "source": [
    "survivor_25 = titanic[(titanic['sex'] == 'female') & \n",
    "                      (titanic['age'] < 25) & \n",
    "                      (titanic['survived'] == 1) ]\n",
    "\n",
    "print(f'Total de mujeres menores de 25 años que sobrevivieron : {len(survivor_25)}')"
   ]
  },
  {
   "attachments": {},
   "cell_type": "markdown",
   "metadata": {},
   "source": [
    "Además, genere una copia del conjunto de datos y rellene los datos faltantes (NA’s) con un valor de 0 en el caso de datos numéricos usados como identificador, la palabra “desconocido” en el caso de datos tipo cadena de caracteres y en el caso de variables numericas use el promedio de los valores de esa columna (por ejemplo, la edad y la tarifa)."
   ]
  },
  {
   "cell_type": "code",
   "execution_count": 8,
   "metadata": {},
   "outputs": [],
   "source": [
    "titanic_filled = titanic.copy()"
   ]
  },
  {
   "cell_type": "code",
   "execution_count": 9,
   "metadata": {},
   "outputs": [
    {
     "data": {
      "text/plain": [
       "pclass         int64\n",
       "survived       int64\n",
       "name          object\n",
       "sex           object\n",
       "age          float64\n",
       "sibsp          int64\n",
       "parch          int64\n",
       "ticket        object\n",
       "fare         float64\n",
       "cabin         object\n",
       "embarked      object\n",
       "boat          object\n",
       "body         float64\n",
       "home.dest     object\n",
       "dtype: object"
      ]
     },
     "execution_count": 9,
     "metadata": {},
     "output_type": "execute_result"
    }
   ],
   "source": [
    "titanic_filled.dtypes"
   ]
  },
  {
   "cell_type": "code",
   "execution_count": 10,
   "metadata": {},
   "outputs": [
    {
     "data": {
      "text/plain": [
       "pclass          0\n",
       "survived        0\n",
       "name            0\n",
       "sex             0\n",
       "age           263\n",
       "sibsp           0\n",
       "parch           0\n",
       "ticket          0\n",
       "fare            1\n",
       "cabin        1014\n",
       "embarked        2\n",
       "boat          823\n",
       "body         1188\n",
       "home.dest     564\n",
       "dtype: int64"
      ]
     },
     "execution_count": 10,
     "metadata": {},
     "output_type": "execute_result"
    }
   ],
   "source": [
    "titanic_filled.isna().sum()"
   ]
  },
  {
   "cell_type": "code",
   "execution_count": 11,
   "metadata": {},
   "outputs": [
    {
     "data": {
      "text/html": [
       "<div>\n",
       "<style scoped>\n",
       "    .dataframe tbody tr th:only-of-type {\n",
       "        vertical-align: middle;\n",
       "    }\n",
       "\n",
       "    .dataframe tbody tr th {\n",
       "        vertical-align: top;\n",
       "    }\n",
       "\n",
       "    .dataframe thead th {\n",
       "        text-align: right;\n",
       "    }\n",
       "</style>\n",
       "<table border=\"1\" class=\"dataframe\">\n",
       "  <thead>\n",
       "    <tr style=\"text-align: right;\">\n",
       "      <th></th>\n",
       "      <th>pclass</th>\n",
       "      <th>survived</th>\n",
       "      <th>name</th>\n",
       "      <th>sex</th>\n",
       "      <th>age</th>\n",
       "      <th>sibsp</th>\n",
       "      <th>parch</th>\n",
       "      <th>ticket</th>\n",
       "      <th>fare</th>\n",
       "      <th>cabin</th>\n",
       "      <th>embarked</th>\n",
       "      <th>boat</th>\n",
       "      <th>body</th>\n",
       "      <th>home.dest</th>\n",
       "    </tr>\n",
       "  </thead>\n",
       "  <tbody>\n",
       "    <tr>\n",
       "      <th>0</th>\n",
       "      <td>1</td>\n",
       "      <td>1</td>\n",
       "      <td>Allen, Miss. Elisabeth Walton</td>\n",
       "      <td>female</td>\n",
       "      <td>29.0000</td>\n",
       "      <td>0</td>\n",
       "      <td>0</td>\n",
       "      <td>24160</td>\n",
       "      <td>211.3375</td>\n",
       "      <td>B5</td>\n",
       "      <td>S</td>\n",
       "      <td>2</td>\n",
       "      <td>NaN</td>\n",
       "      <td>St Louis, MO</td>\n",
       "    </tr>\n",
       "    <tr>\n",
       "      <th>1</th>\n",
       "      <td>1</td>\n",
       "      <td>1</td>\n",
       "      <td>Allison, Master. Hudson Trevor</td>\n",
       "      <td>male</td>\n",
       "      <td>0.9167</td>\n",
       "      <td>1</td>\n",
       "      <td>2</td>\n",
       "      <td>113781</td>\n",
       "      <td>151.5500</td>\n",
       "      <td>C22 C26</td>\n",
       "      <td>S</td>\n",
       "      <td>11</td>\n",
       "      <td>NaN</td>\n",
       "      <td>Montreal, PQ / Chesterville, ON</td>\n",
       "    </tr>\n",
       "    <tr>\n",
       "      <th>2</th>\n",
       "      <td>1</td>\n",
       "      <td>0</td>\n",
       "      <td>Allison, Miss. Helen Loraine</td>\n",
       "      <td>female</td>\n",
       "      <td>2.0000</td>\n",
       "      <td>1</td>\n",
       "      <td>2</td>\n",
       "      <td>113781</td>\n",
       "      <td>151.5500</td>\n",
       "      <td>C22 C26</td>\n",
       "      <td>S</td>\n",
       "      <td>NaN</td>\n",
       "      <td>NaN</td>\n",
       "      <td>Montreal, PQ / Chesterville, ON</td>\n",
       "    </tr>\n",
       "    <tr>\n",
       "      <th>3</th>\n",
       "      <td>1</td>\n",
       "      <td>0</td>\n",
       "      <td>Allison, Mr. Hudson Joshua Creighton</td>\n",
       "      <td>male</td>\n",
       "      <td>30.0000</td>\n",
       "      <td>1</td>\n",
       "      <td>2</td>\n",
       "      <td>113781</td>\n",
       "      <td>151.5500</td>\n",
       "      <td>C22 C26</td>\n",
       "      <td>S</td>\n",
       "      <td>NaN</td>\n",
       "      <td>135.0</td>\n",
       "      <td>Montreal, PQ / Chesterville, ON</td>\n",
       "    </tr>\n",
       "    <tr>\n",
       "      <th>4</th>\n",
       "      <td>1</td>\n",
       "      <td>0</td>\n",
       "      <td>Allison, Mrs. Hudson J C (Bessie Waldo Daniels)</td>\n",
       "      <td>female</td>\n",
       "      <td>25.0000</td>\n",
       "      <td>1</td>\n",
       "      <td>2</td>\n",
       "      <td>113781</td>\n",
       "      <td>151.5500</td>\n",
       "      <td>C22 C26</td>\n",
       "      <td>S</td>\n",
       "      <td>NaN</td>\n",
       "      <td>NaN</td>\n",
       "      <td>Montreal, PQ / Chesterville, ON</td>\n",
       "    </tr>\n",
       "    <tr>\n",
       "      <th>...</th>\n",
       "      <td>...</td>\n",
       "      <td>...</td>\n",
       "      <td>...</td>\n",
       "      <td>...</td>\n",
       "      <td>...</td>\n",
       "      <td>...</td>\n",
       "      <td>...</td>\n",
       "      <td>...</td>\n",
       "      <td>...</td>\n",
       "      <td>...</td>\n",
       "      <td>...</td>\n",
       "      <td>...</td>\n",
       "      <td>...</td>\n",
       "      <td>...</td>\n",
       "    </tr>\n",
       "    <tr>\n",
       "      <th>1304</th>\n",
       "      <td>3</td>\n",
       "      <td>0</td>\n",
       "      <td>Zabour, Miss. Hileni</td>\n",
       "      <td>female</td>\n",
       "      <td>14.5000</td>\n",
       "      <td>1</td>\n",
       "      <td>0</td>\n",
       "      <td>2665</td>\n",
       "      <td>14.4542</td>\n",
       "      <td>NaN</td>\n",
       "      <td>C</td>\n",
       "      <td>NaN</td>\n",
       "      <td>328.0</td>\n",
       "      <td>NaN</td>\n",
       "    </tr>\n",
       "    <tr>\n",
       "      <th>1305</th>\n",
       "      <td>3</td>\n",
       "      <td>0</td>\n",
       "      <td>Zabour, Miss. Thamine</td>\n",
       "      <td>female</td>\n",
       "      <td>NaN</td>\n",
       "      <td>1</td>\n",
       "      <td>0</td>\n",
       "      <td>2665</td>\n",
       "      <td>14.4542</td>\n",
       "      <td>NaN</td>\n",
       "      <td>C</td>\n",
       "      <td>NaN</td>\n",
       "      <td>NaN</td>\n",
       "      <td>NaN</td>\n",
       "    </tr>\n",
       "    <tr>\n",
       "      <th>1306</th>\n",
       "      <td>3</td>\n",
       "      <td>0</td>\n",
       "      <td>Zakarian, Mr. Mapriededer</td>\n",
       "      <td>male</td>\n",
       "      <td>26.5000</td>\n",
       "      <td>0</td>\n",
       "      <td>0</td>\n",
       "      <td>2656</td>\n",
       "      <td>7.2250</td>\n",
       "      <td>NaN</td>\n",
       "      <td>C</td>\n",
       "      <td>NaN</td>\n",
       "      <td>304.0</td>\n",
       "      <td>NaN</td>\n",
       "    </tr>\n",
       "    <tr>\n",
       "      <th>1307</th>\n",
       "      <td>3</td>\n",
       "      <td>0</td>\n",
       "      <td>Zakarian, Mr. Ortin</td>\n",
       "      <td>male</td>\n",
       "      <td>27.0000</td>\n",
       "      <td>0</td>\n",
       "      <td>0</td>\n",
       "      <td>2670</td>\n",
       "      <td>7.2250</td>\n",
       "      <td>NaN</td>\n",
       "      <td>C</td>\n",
       "      <td>NaN</td>\n",
       "      <td>NaN</td>\n",
       "      <td>NaN</td>\n",
       "    </tr>\n",
       "    <tr>\n",
       "      <th>1308</th>\n",
       "      <td>3</td>\n",
       "      <td>0</td>\n",
       "      <td>Zimmerman, Mr. Leo</td>\n",
       "      <td>male</td>\n",
       "      <td>29.0000</td>\n",
       "      <td>0</td>\n",
       "      <td>0</td>\n",
       "      <td>315082</td>\n",
       "      <td>7.8750</td>\n",
       "      <td>NaN</td>\n",
       "      <td>S</td>\n",
       "      <td>NaN</td>\n",
       "      <td>NaN</td>\n",
       "      <td>NaN</td>\n",
       "    </tr>\n",
       "  </tbody>\n",
       "</table>\n",
       "<p>1309 rows × 14 columns</p>\n",
       "</div>"
      ],
      "text/plain": [
       "      pclass  survived                                             name  \\\n",
       "0          1         1                    Allen, Miss. Elisabeth Walton   \n",
       "1          1         1                   Allison, Master. Hudson Trevor   \n",
       "2          1         0                     Allison, Miss. Helen Loraine   \n",
       "3          1         0             Allison, Mr. Hudson Joshua Creighton   \n",
       "4          1         0  Allison, Mrs. Hudson J C (Bessie Waldo Daniels)   \n",
       "...      ...       ...                                              ...   \n",
       "1304       3         0                             Zabour, Miss. Hileni   \n",
       "1305       3         0                            Zabour, Miss. Thamine   \n",
       "1306       3         0                        Zakarian, Mr. Mapriededer   \n",
       "1307       3         0                              Zakarian, Mr. Ortin   \n",
       "1308       3         0                               Zimmerman, Mr. Leo   \n",
       "\n",
       "         sex      age  sibsp  parch  ticket      fare    cabin embarked boat  \\\n",
       "0     female  29.0000      0      0   24160  211.3375       B5        S    2   \n",
       "1       male   0.9167      1      2  113781  151.5500  C22 C26        S   11   \n",
       "2     female   2.0000      1      2  113781  151.5500  C22 C26        S  NaN   \n",
       "3       male  30.0000      1      2  113781  151.5500  C22 C26        S  NaN   \n",
       "4     female  25.0000      1      2  113781  151.5500  C22 C26        S  NaN   \n",
       "...      ...      ...    ...    ...     ...       ...      ...      ...  ...   \n",
       "1304  female  14.5000      1      0    2665   14.4542      NaN        C  NaN   \n",
       "1305  female      NaN      1      0    2665   14.4542      NaN        C  NaN   \n",
       "1306    male  26.5000      0      0    2656    7.2250      NaN        C  NaN   \n",
       "1307    male  27.0000      0      0    2670    7.2250      NaN        C  NaN   \n",
       "1308    male  29.0000      0      0  315082    7.8750      NaN        S  NaN   \n",
       "\n",
       "       body                        home.dest  \n",
       "0       NaN                     St Louis, MO  \n",
       "1       NaN  Montreal, PQ / Chesterville, ON  \n",
       "2       NaN  Montreal, PQ / Chesterville, ON  \n",
       "3     135.0  Montreal, PQ / Chesterville, ON  \n",
       "4       NaN  Montreal, PQ / Chesterville, ON  \n",
       "...     ...                              ...  \n",
       "1304  328.0                              NaN  \n",
       "1305    NaN                              NaN  \n",
       "1306  304.0                              NaN  \n",
       "1307    NaN                              NaN  \n",
       "1308    NaN                              NaN  \n",
       "\n",
       "[1309 rows x 14 columns]"
      ]
     },
     "execution_count": 11,
     "metadata": {},
     "output_type": "execute_result"
    }
   ],
   "source": [
    "titanic_filled"
   ]
  },
  {
   "cell_type": "code",
   "execution_count": 12,
   "metadata": {},
   "outputs": [],
   "source": [
    "titanic_filled['body'] = titanic_filled['body'].fillna(0)\n",
    "titanic_filled[['boat', 'embarked', 'home.dest', 'cabin']] = titanic_filled[['boat', 'embarked', 'home.dest', 'cabin']].fillna('desconocido')\n",
    "titanic_filled[['age','fare']] = titanic_filled[['age','fare']].fillna(titanic_filled[['age','fare']].mean())"
   ]
  },
  {
   "cell_type": "code",
   "execution_count": 13,
   "metadata": {},
   "outputs": [
    {
     "data": {
      "text/plain": [
       "pclass       0\n",
       "survived     0\n",
       "name         0\n",
       "sex          0\n",
       "age          0\n",
       "sibsp        0\n",
       "parch        0\n",
       "ticket       0\n",
       "fare         0\n",
       "cabin        0\n",
       "embarked     0\n",
       "boat         0\n",
       "body         0\n",
       "home.dest    0\n",
       "dtype: int64"
      ]
     },
     "execution_count": 13,
     "metadata": {},
     "output_type": "execute_result"
    }
   ],
   "source": [
    "titanic_filled.isna().sum()"
   ]
  },
  {
   "attachments": {},
   "cell_type": "markdown",
   "metadata": {},
   "source": [
    "Finalmente, de los campos “age” y “fare” agregue columnas al conjunto de datos que contengan los valores normalizados. Elija la normalización tipo\n",
    "$$\n",
    "\\frac{x_i - \\bar{x}}{\\sigma}\n",
    "$$\n",
    "\n",
    "para el caso de que la variable tenga una distribución normal y utilice la normalización tipo\n",
    "$$\n",
    "\\frac{x_i - x_{min}}{x_{max} - x_{min}}\n",
    "$$\n",
    "en cualquier otro caso."
   ]
  },
  {
   "attachments": {},
   "cell_type": "markdown",
   "metadata": {},
   "source": [
    "Haremos las pruebas de normalidad con la función **shapiro()** de la librería **scipy.stats**.  El test de Shapiro-Wilk evalúa la hipótesis nula de que una muestra proviene de una población con una distribución normal. Si el *pvalue* es menor a 0.05 (esto porque queremos un intervalo de confianza del 95%) rechazamos la hipótesis nula y por lo tanto los datos no se distribuyen normalmente, de otro modo no podemos rechazar y por lo tanto si se distribuyen normalmente."
   ]
  },
  {
   "cell_type": "code",
   "execution_count": 14,
   "metadata": {},
   "outputs": [
    {
     "name": "stdout",
     "output_type": "stream",
     "text": [
      "La columna age no sigue una distribución normal (p-value = 4.709205401713391e-19)\n",
      "La columna age no sigue una distribución normal (p-value = 0.0)\n"
     ]
    }
   ],
   "source": [
    "from scipy.stats import shapiro\n",
    "\n",
    "# Realizing shapiro test\n",
    "test_statistic_age, p_value_age = shapiro(titanic_filled['age'])\n",
    "test_statistic_fare, p_value_fare = shapiro(titanic_filled['fare'])\n",
    "\n",
    "alpha = 0.05\n",
    "\n",
    "if p_value_age > alpha:\n",
    "    print('La columna age sigue una distribución normal (p-value = {})'.format(p_value_age))\n",
    "else:\n",
    "    print('La columna age no sigue una distribución normal (p-value = {})'.format(p_value_age))\n",
    "    \n",
    "    \n",
    "if p_value_fare > alpha:    \n",
    "    print('La columna age sigue una distribución normal (p-value = {})'.format(p_value_fare))\n",
    "else:\n",
    "    print('La columna age no sigue una distribución normal (p-value = {})'.format(p_value_fare))\n"
   ]
  },
  {
   "attachments": {},
   "cell_type": "markdown",
   "metadata": {},
   "source": [
    "Dado que ninguna de las columnas sigue una distribución normal, entonces normalizamos la columna con la segunda fórmula:\n",
    "$$\n",
    "\\frac{x_i - x_{min}}{x_{max} - x_{min}}\n",
    "$$"
   ]
  },
  {
   "cell_type": "code",
   "execution_count": 15,
   "metadata": {},
   "outputs": [],
   "source": [
    "def normalize_column(column):\n",
    "    n = len(column)\n",
    "    x_min = min(column)\n",
    "    x_max = max(column)\n",
    "    vals = []\n",
    "    for x in column:\n",
    "        vals.append((x - x_min) / (x_max - x_min))\n",
    "    ser = pd.Series(vals, index=[i for i in range(n)])\n",
    "    return ser"
   ]
  },
  {
   "cell_type": "code",
   "execution_count": 16,
   "metadata": {},
   "outputs": [
    {
     "data": {
      "text/html": [
       "<div>\n",
       "<style scoped>\n",
       "    .dataframe tbody tr th:only-of-type {\n",
       "        vertical-align: middle;\n",
       "    }\n",
       "\n",
       "    .dataframe tbody tr th {\n",
       "        vertical-align: top;\n",
       "    }\n",
       "\n",
       "    .dataframe thead th {\n",
       "        text-align: right;\n",
       "    }\n",
       "</style>\n",
       "<table border=\"1\" class=\"dataframe\">\n",
       "  <thead>\n",
       "    <tr style=\"text-align: right;\">\n",
       "      <th></th>\n",
       "      <th>pclass</th>\n",
       "      <th>survived</th>\n",
       "      <th>name</th>\n",
       "      <th>sex</th>\n",
       "      <th>age</th>\n",
       "      <th>sibsp</th>\n",
       "      <th>parch</th>\n",
       "      <th>ticket</th>\n",
       "      <th>fare</th>\n",
       "      <th>cabin</th>\n",
       "      <th>embarked</th>\n",
       "      <th>boat</th>\n",
       "      <th>body</th>\n",
       "      <th>home.dest</th>\n",
       "      <th>age_normalized</th>\n",
       "      <th>fare_normalized</th>\n",
       "    </tr>\n",
       "  </thead>\n",
       "  <tbody>\n",
       "    <tr>\n",
       "      <th>0</th>\n",
       "      <td>1</td>\n",
       "      <td>1</td>\n",
       "      <td>Allen, Miss. Elisabeth Walton</td>\n",
       "      <td>female</td>\n",
       "      <td>29.000000</td>\n",
       "      <td>0</td>\n",
       "      <td>0</td>\n",
       "      <td>24160</td>\n",
       "      <td>211.3375</td>\n",
       "      <td>B5</td>\n",
       "      <td>S</td>\n",
       "      <td>2</td>\n",
       "      <td>0.0</td>\n",
       "      <td>St Louis, MO</td>\n",
       "      <td>0.361169</td>\n",
       "      <td>0.412503</td>\n",
       "    </tr>\n",
       "    <tr>\n",
       "      <th>1</th>\n",
       "      <td>1</td>\n",
       "      <td>1</td>\n",
       "      <td>Allison, Master. Hudson Trevor</td>\n",
       "      <td>male</td>\n",
       "      <td>0.916700</td>\n",
       "      <td>1</td>\n",
       "      <td>2</td>\n",
       "      <td>113781</td>\n",
       "      <td>151.5500</td>\n",
       "      <td>C22 C26</td>\n",
       "      <td>S</td>\n",
       "      <td>11</td>\n",
       "      <td>0.0</td>\n",
       "      <td>Montreal, PQ / Chesterville, ON</td>\n",
       "      <td>0.009395</td>\n",
       "      <td>0.295806</td>\n",
       "    </tr>\n",
       "    <tr>\n",
       "      <th>2</th>\n",
       "      <td>1</td>\n",
       "      <td>0</td>\n",
       "      <td>Allison, Miss. Helen Loraine</td>\n",
       "      <td>female</td>\n",
       "      <td>2.000000</td>\n",
       "      <td>1</td>\n",
       "      <td>2</td>\n",
       "      <td>113781</td>\n",
       "      <td>151.5500</td>\n",
       "      <td>C22 C26</td>\n",
       "      <td>S</td>\n",
       "      <td>desconocido</td>\n",
       "      <td>0.0</td>\n",
       "      <td>Montreal, PQ / Chesterville, ON</td>\n",
       "      <td>0.022964</td>\n",
       "      <td>0.295806</td>\n",
       "    </tr>\n",
       "    <tr>\n",
       "      <th>3</th>\n",
       "      <td>1</td>\n",
       "      <td>0</td>\n",
       "      <td>Allison, Mr. Hudson Joshua Creighton</td>\n",
       "      <td>male</td>\n",
       "      <td>30.000000</td>\n",
       "      <td>1</td>\n",
       "      <td>2</td>\n",
       "      <td>113781</td>\n",
       "      <td>151.5500</td>\n",
       "      <td>C22 C26</td>\n",
       "      <td>S</td>\n",
       "      <td>desconocido</td>\n",
       "      <td>135.0</td>\n",
       "      <td>Montreal, PQ / Chesterville, ON</td>\n",
       "      <td>0.373695</td>\n",
       "      <td>0.295806</td>\n",
       "    </tr>\n",
       "    <tr>\n",
       "      <th>4</th>\n",
       "      <td>1</td>\n",
       "      <td>0</td>\n",
       "      <td>Allison, Mrs. Hudson J C (Bessie Waldo Daniels)</td>\n",
       "      <td>female</td>\n",
       "      <td>25.000000</td>\n",
       "      <td>1</td>\n",
       "      <td>2</td>\n",
       "      <td>113781</td>\n",
       "      <td>151.5500</td>\n",
       "      <td>C22 C26</td>\n",
       "      <td>S</td>\n",
       "      <td>desconocido</td>\n",
       "      <td>0.0</td>\n",
       "      <td>Montreal, PQ / Chesterville, ON</td>\n",
       "      <td>0.311064</td>\n",
       "      <td>0.295806</td>\n",
       "    </tr>\n",
       "    <tr>\n",
       "      <th>...</th>\n",
       "      <td>...</td>\n",
       "      <td>...</td>\n",
       "      <td>...</td>\n",
       "      <td>...</td>\n",
       "      <td>...</td>\n",
       "      <td>...</td>\n",
       "      <td>...</td>\n",
       "      <td>...</td>\n",
       "      <td>...</td>\n",
       "      <td>...</td>\n",
       "      <td>...</td>\n",
       "      <td>...</td>\n",
       "      <td>...</td>\n",
       "      <td>...</td>\n",
       "      <td>...</td>\n",
       "      <td>...</td>\n",
       "    </tr>\n",
       "    <tr>\n",
       "      <th>1304</th>\n",
       "      <td>3</td>\n",
       "      <td>0</td>\n",
       "      <td>Zabour, Miss. Hileni</td>\n",
       "      <td>female</td>\n",
       "      <td>14.500000</td>\n",
       "      <td>1</td>\n",
       "      <td>0</td>\n",
       "      <td>2665</td>\n",
       "      <td>14.4542</td>\n",
       "      <td>desconocido</td>\n",
       "      <td>C</td>\n",
       "      <td>desconocido</td>\n",
       "      <td>328.0</td>\n",
       "      <td>desconocido</td>\n",
       "      <td>0.179540</td>\n",
       "      <td>0.028213</td>\n",
       "    </tr>\n",
       "    <tr>\n",
       "      <th>1305</th>\n",
       "      <td>3</td>\n",
       "      <td>0</td>\n",
       "      <td>Zabour, Miss. Thamine</td>\n",
       "      <td>female</td>\n",
       "      <td>29.881135</td>\n",
       "      <td>1</td>\n",
       "      <td>0</td>\n",
       "      <td>2665</td>\n",
       "      <td>14.4542</td>\n",
       "      <td>desconocido</td>\n",
       "      <td>C</td>\n",
       "      <td>desconocido</td>\n",
       "      <td>0.0</td>\n",
       "      <td>desconocido</td>\n",
       "      <td>0.372206</td>\n",
       "      <td>0.028213</td>\n",
       "    </tr>\n",
       "    <tr>\n",
       "      <th>1306</th>\n",
       "      <td>3</td>\n",
       "      <td>0</td>\n",
       "      <td>Zakarian, Mr. Mapriededer</td>\n",
       "      <td>male</td>\n",
       "      <td>26.500000</td>\n",
       "      <td>0</td>\n",
       "      <td>0</td>\n",
       "      <td>2656</td>\n",
       "      <td>7.2250</td>\n",
       "      <td>desconocido</td>\n",
       "      <td>C</td>\n",
       "      <td>desconocido</td>\n",
       "      <td>304.0</td>\n",
       "      <td>desconocido</td>\n",
       "      <td>0.329854</td>\n",
       "      <td>0.014102</td>\n",
       "    </tr>\n",
       "    <tr>\n",
       "      <th>1307</th>\n",
       "      <td>3</td>\n",
       "      <td>0</td>\n",
       "      <td>Zakarian, Mr. Ortin</td>\n",
       "      <td>male</td>\n",
       "      <td>27.000000</td>\n",
       "      <td>0</td>\n",
       "      <td>0</td>\n",
       "      <td>2670</td>\n",
       "      <td>7.2250</td>\n",
       "      <td>desconocido</td>\n",
       "      <td>C</td>\n",
       "      <td>desconocido</td>\n",
       "      <td>0.0</td>\n",
       "      <td>desconocido</td>\n",
       "      <td>0.336117</td>\n",
       "      <td>0.014102</td>\n",
       "    </tr>\n",
       "    <tr>\n",
       "      <th>1308</th>\n",
       "      <td>3</td>\n",
       "      <td>0</td>\n",
       "      <td>Zimmerman, Mr. Leo</td>\n",
       "      <td>male</td>\n",
       "      <td>29.000000</td>\n",
       "      <td>0</td>\n",
       "      <td>0</td>\n",
       "      <td>315082</td>\n",
       "      <td>7.8750</td>\n",
       "      <td>desconocido</td>\n",
       "      <td>S</td>\n",
       "      <td>desconocido</td>\n",
       "      <td>0.0</td>\n",
       "      <td>desconocido</td>\n",
       "      <td>0.361169</td>\n",
       "      <td>0.015371</td>\n",
       "    </tr>\n",
       "  </tbody>\n",
       "</table>\n",
       "<p>1309 rows × 16 columns</p>\n",
       "</div>"
      ],
      "text/plain": [
       "      pclass  survived                                             name  \\\n",
       "0          1         1                    Allen, Miss. Elisabeth Walton   \n",
       "1          1         1                   Allison, Master. Hudson Trevor   \n",
       "2          1         0                     Allison, Miss. Helen Loraine   \n",
       "3          1         0             Allison, Mr. Hudson Joshua Creighton   \n",
       "4          1         0  Allison, Mrs. Hudson J C (Bessie Waldo Daniels)   \n",
       "...      ...       ...                                              ...   \n",
       "1304       3         0                             Zabour, Miss. Hileni   \n",
       "1305       3         0                            Zabour, Miss. Thamine   \n",
       "1306       3         0                        Zakarian, Mr. Mapriededer   \n",
       "1307       3         0                              Zakarian, Mr. Ortin   \n",
       "1308       3         0                               Zimmerman, Mr. Leo   \n",
       "\n",
       "         sex        age  sibsp  parch  ticket      fare        cabin embarked  \\\n",
       "0     female  29.000000      0      0   24160  211.3375           B5        S   \n",
       "1       male   0.916700      1      2  113781  151.5500      C22 C26        S   \n",
       "2     female   2.000000      1      2  113781  151.5500      C22 C26        S   \n",
       "3       male  30.000000      1      2  113781  151.5500      C22 C26        S   \n",
       "4     female  25.000000      1      2  113781  151.5500      C22 C26        S   \n",
       "...      ...        ...    ...    ...     ...       ...          ...      ...   \n",
       "1304  female  14.500000      1      0    2665   14.4542  desconocido        C   \n",
       "1305  female  29.881135      1      0    2665   14.4542  desconocido        C   \n",
       "1306    male  26.500000      0      0    2656    7.2250  desconocido        C   \n",
       "1307    male  27.000000      0      0    2670    7.2250  desconocido        C   \n",
       "1308    male  29.000000      0      0  315082    7.8750  desconocido        S   \n",
       "\n",
       "             boat   body                        home.dest  age_normalized  \\\n",
       "0               2    0.0                     St Louis, MO        0.361169   \n",
       "1              11    0.0  Montreal, PQ / Chesterville, ON        0.009395   \n",
       "2     desconocido    0.0  Montreal, PQ / Chesterville, ON        0.022964   \n",
       "3     desconocido  135.0  Montreal, PQ / Chesterville, ON        0.373695   \n",
       "4     desconocido    0.0  Montreal, PQ / Chesterville, ON        0.311064   \n",
       "...           ...    ...                              ...             ...   \n",
       "1304  desconocido  328.0                      desconocido        0.179540   \n",
       "1305  desconocido    0.0                      desconocido        0.372206   \n",
       "1306  desconocido  304.0                      desconocido        0.329854   \n",
       "1307  desconocido    0.0                      desconocido        0.336117   \n",
       "1308  desconocido    0.0                      desconocido        0.361169   \n",
       "\n",
       "      fare_normalized  \n",
       "0            0.412503  \n",
       "1            0.295806  \n",
       "2            0.295806  \n",
       "3            0.295806  \n",
       "4            0.295806  \n",
       "...               ...  \n",
       "1304         0.028213  \n",
       "1305         0.028213  \n",
       "1306         0.014102  \n",
       "1307         0.014102  \n",
       "1308         0.015371  \n",
       "\n",
       "[1309 rows x 16 columns]"
      ]
     },
     "execution_count": 16,
     "metadata": {},
     "output_type": "execute_result"
    }
   ],
   "source": [
    "titanic_norm = pd.concat([titanic_filled, normalize_column(titanic_filled['age'])], axis=1)\n",
    "titanic_norm = pd.concat([titanic_norm, normalize_column(titanic_filled['fare'])], axis=1)\n",
    "titanic_norm.columns = titanic_filled.columns.tolist() + ['age_normalized', 'fare_normalized']\n",
    "titanic_norm"
   ]
  },
  {
   "attachments": {},
   "cell_type": "markdown",
   "metadata": {},
   "source": [
    "## b) **Distancias:** Utilizando el archivo “movies.csv” construya una o varias funciones que permitan calcular una matriz de distancias para los datos numéricos en el dataFrame. La función debe permitir construir la matriz de distancia usando las distancias de Manhattan, Euclideana y de Minkowski (para p igual a 3)."
   ]
  },
  {
   "attachments": {},
   "cell_type": "markdown",
   "metadata": {},
   "source": [
    "Una matriz de distancia es una matriz cuadrada qué contiene las distancias entre los elementos de un conjunto (medidas un par a la vez)."
   ]
  },
  {
   "cell_type": "code",
   "execution_count": 17,
   "metadata": {},
   "outputs": [
    {
     "data": {
      "text/html": [
       "<div>\n",
       "<style scoped>\n",
       "    .dataframe tbody tr th:only-of-type {\n",
       "        vertical-align: middle;\n",
       "    }\n",
       "\n",
       "    .dataframe tbody tr th {\n",
       "        vertical-align: top;\n",
       "    }\n",
       "\n",
       "    .dataframe thead th {\n",
       "        text-align: right;\n",
       "    }\n",
       "</style>\n",
       "<table border=\"1\" class=\"dataframe\">\n",
       "  <thead>\n",
       "    <tr style=\"text-align: right;\">\n",
       "      <th></th>\n",
       "      <th>user_id</th>\n",
       "      <th>star_wars</th>\n",
       "      <th>lord_of_the_rings</th>\n",
       "      <th>harry_potter</th>\n",
       "    </tr>\n",
       "  </thead>\n",
       "  <tbody>\n",
       "    <tr>\n",
       "      <th>0</th>\n",
       "      <td>1</td>\n",
       "      <td>1.2</td>\n",
       "      <td>4.9</td>\n",
       "      <td>2.1</td>\n",
       "    </tr>\n",
       "    <tr>\n",
       "      <th>1</th>\n",
       "      <td>2</td>\n",
       "      <td>2.1</td>\n",
       "      <td>8.1</td>\n",
       "      <td>7.9</td>\n",
       "    </tr>\n",
       "    <tr>\n",
       "      <th>2</th>\n",
       "      <td>3</td>\n",
       "      <td>7.4</td>\n",
       "      <td>3.0</td>\n",
       "      <td>9.9</td>\n",
       "    </tr>\n",
       "    <tr>\n",
       "      <th>3</th>\n",
       "      <td>4</td>\n",
       "      <td>5.6</td>\n",
       "      <td>0.5</td>\n",
       "      <td>1.8</td>\n",
       "    </tr>\n",
       "    <tr>\n",
       "      <th>4</th>\n",
       "      <td>5</td>\n",
       "      <td>1.5</td>\n",
       "      <td>8.3</td>\n",
       "      <td>2.6</td>\n",
       "    </tr>\n",
       "  </tbody>\n",
       "</table>\n",
       "</div>"
      ],
      "text/plain": [
       "   user_id  star_wars  lord_of_the_rings  harry_potter\n",
       "0        1        1.2                4.9           2.1\n",
       "1        2        2.1                8.1           7.9\n",
       "2        3        7.4                3.0           9.9\n",
       "3        4        5.6                0.5           1.8\n",
       "4        5        1.5                8.3           2.6"
      ]
     },
     "execution_count": 17,
     "metadata": {},
     "output_type": "execute_result"
    }
   ],
   "source": [
    "movies = pd.read_csv('movies.csv', sep=';')\n",
    "movies.head()"
   ]
  },
  {
   "cell_type": "code",
   "execution_count": 18,
   "metadata": {},
   "outputs": [],
   "source": [
    "numeric_movies = movies.loc[:,['star_wars', 'lord_of_the_rings', 'harry_potter']]"
   ]
  },
  {
   "attachments": {},
   "cell_type": "markdown",
   "metadata": {},
   "source": [
    "Distancias"
   ]
  },
  {
   "cell_type": "code",
   "execution_count": 19,
   "metadata": {},
   "outputs": [],
   "source": [
    "def manhattan_distance(a,b):\n",
    "    return sum(abs(a-b))"
   ]
  },
  {
   "cell_type": "code",
   "execution_count": 20,
   "metadata": {},
   "outputs": [],
   "source": [
    "def euclidean_distance(a,b):\n",
    "    return np.sqrt(sum((a - b)**2))"
   ]
  },
  {
   "cell_type": "code",
   "execution_count": 21,
   "metadata": {},
   "outputs": [],
   "source": [
    "def minkowski_distance(a,b,p):\n",
    "    return sum(abs(a - b)**p)**(1/p)"
   ]
  },
  {
   "attachments": {},
   "cell_type": "markdown",
   "metadata": {},
   "source": [
    "Matriz de distancias"
   ]
  },
  {
   "cell_type": "code",
   "execution_count": 22,
   "metadata": {},
   "outputs": [],
   "source": [
    "# Function that calculates the matrix of distances\n",
    "def distance_matrix_me(data, dist = 'euclidean'):\n",
    "    n = len(data)\n",
    "    matrix = np.zeros((n,n))\n",
    "    for i in range(n):\n",
    "        for j in range(n):\n",
    "            if dist == 'euclidean':\n",
    "                matrix[i][j] = euclidean_distance(data.iloc[i], data.iloc[j])\n",
    "            elif dist == 'manhattan':\n",
    "                matrix[i][j] = manhattan_distance(data.iloc[i], data.iloc[j])\n",
    "            else:\n",
    "                matrix[i][j] = minkowski_distance(data.iloc[i], data.iloc[j], 3)\n",
    "    return matrix"
   ]
  },
  {
   "attachments": {},
   "cell_type": "markdown",
   "metadata": {},
   "source": [
    "Compare sus resultados con los que se obtienen por medio del método distance_matrix de scipy.spatial."
   ]
  },
  {
   "attachments": {},
   "cell_type": "markdown",
   "metadata": {},
   "source": [
    "* Euclidean"
   ]
  },
  {
   "cell_type": "code",
   "execution_count": 23,
   "metadata": {},
   "outputs": [
    {
     "data": {
      "text/plain": [
       "array([[ 0.        ,  6.68505797, 10.14347081,  6.22976725,  3.44963766,\n",
       "         4.74236228,  7.24499827,  5.04777179,  3.63318042,  0.41231056],\n",
       "       [ 6.68505797,  0.        ,  7.6223356 , 10.35470907,  5.33760246,\n",
       "         4.63465209,  0.6164414 ,  3.6180105 ,  8.01560977,  6.57875368],\n",
       "       [10.14347081,  7.6223356 ,  0.        ,  8.66602562, 10.77914653,\n",
       "         6.00499792,  7.62627039, 10.01049449,  8.42436941,  9.77036335],\n",
       "       [ 6.22976725, 10.35470907,  8.66602562,  0.        ,  8.84816365,\n",
       "         6.47610994, 10.82312339,  9.95841353,  3.48281495,  5.89067059],\n",
       "       [ 3.44963766,  5.33760246, 10.77914653,  8.84816365,  0.        ,\n",
       "         6.11310069,  5.92199291,  2.16794834,  6.70969448,  3.61247837],\n",
       "       [ 4.74236228,  4.63465209,  6.00499792,  6.47610994,  6.11310069,\n",
       "         0.        ,  4.94974747,  5.98748695,  3.94588393,  4.43170396],\n",
       "       [ 7.24499827,  0.6164414 ,  7.62627039, 10.82312339,  5.92199291,\n",
       "         4.94974747,  0.        ,  4.15331193,  8.47171765,  7.13722635],\n",
       "       [ 5.04777179,  3.6180105 , 10.01049449,  9.95841353,  2.16794834,\n",
       "         5.98748695,  4.15331193,  0.        ,  7.76916984,  5.10783712],\n",
       "       [ 3.63318042,  8.01560977,  8.42436941,  3.48281495,  6.70969448,\n",
       "         3.94588393,  8.47171765,  7.76916984,  0.        ,  3.29393382],\n",
       "       [ 0.41231056,  6.57875368,  9.77036335,  5.89067059,  3.61247837,\n",
       "         4.43170396,  7.13722635,  5.10783712,  3.29393382,  0.        ]])"
      ]
     },
     "execution_count": 23,
     "metadata": {},
     "output_type": "execute_result"
    }
   ],
   "source": [
    "# Function made by us to calculate the distance matrix\n",
    "matrix_euclidean = distance_matrix_me(numeric_movies, 'euclidean')\n",
    "matrix_euclidean"
   ]
  },
  {
   "cell_type": "code",
   "execution_count": 24,
   "metadata": {},
   "outputs": [
    {
     "data": {
      "text/plain": [
       "array([[ 0.        ,  6.68505797, 10.14347081,  6.22976725,  3.44963766,\n",
       "         4.74236228,  7.24499827,  5.04777179,  3.63318042,  0.41231056],\n",
       "       [ 6.68505797,  0.        ,  7.6223356 , 10.35470907,  5.33760246,\n",
       "         4.63465209,  0.6164414 ,  3.6180105 ,  8.01560977,  6.57875368],\n",
       "       [10.14347081,  7.6223356 ,  0.        ,  8.66602562, 10.77914653,\n",
       "         6.00499792,  7.62627039, 10.01049449,  8.42436941,  9.77036335],\n",
       "       [ 6.22976725, 10.35470907,  8.66602562,  0.        ,  8.84816365,\n",
       "         6.47610994, 10.82312339,  9.95841353,  3.48281495,  5.89067059],\n",
       "       [ 3.44963766,  5.33760246, 10.77914653,  8.84816365,  0.        ,\n",
       "         6.11310069,  5.92199291,  2.16794834,  6.70969448,  3.61247837],\n",
       "       [ 4.74236228,  4.63465209,  6.00499792,  6.47610994,  6.11310069,\n",
       "         0.        ,  4.94974747,  5.98748695,  3.94588393,  4.43170396],\n",
       "       [ 7.24499827,  0.6164414 ,  7.62627039, 10.82312339,  5.92199291,\n",
       "         4.94974747,  0.        ,  4.15331193,  8.47171765,  7.13722635],\n",
       "       [ 5.04777179,  3.6180105 , 10.01049449,  9.95841353,  2.16794834,\n",
       "         5.98748695,  4.15331193,  0.        ,  7.76916984,  5.10783712],\n",
       "       [ 3.63318042,  8.01560977,  8.42436941,  3.48281495,  6.70969448,\n",
       "         3.94588393,  8.47171765,  7.76916984,  0.        ,  3.29393382],\n",
       "       [ 0.41231056,  6.57875368,  9.77036335,  5.89067059,  3.61247837,\n",
       "         4.43170396,  7.13722635,  5.10783712,  3.29393382,  0.        ]])"
      ]
     },
     "execution_count": 24,
     "metadata": {},
     "output_type": "execute_result"
    }
   ],
   "source": [
    "from scipy.spatial import distance_matrix\n",
    "matrix_euclidean_s = distance_matrix(numeric_movies, numeric_movies, p=2)\n",
    "matrix_euclidean_s"
   ]
  },
  {
   "attachments": {},
   "cell_type": "markdown",
   "metadata": {},
   "source": [
    "* Manhattan"
   ]
  },
  {
   "cell_type": "code",
   "execution_count": 25,
   "metadata": {},
   "outputs": [
    {
     "data": {
      "text/plain": [
       "array([[ 0. ,  9.9, 15.9,  9.1,  4.2,  6.9, 10.5,  7.4,  5.6,  0.7],\n",
       "       [ 9.9,  0. , 12.4, 17.2,  6.1,  6.2,  0.8,  4.9, 11.7,  9.6],\n",
       "       [15.9, 12.4,  0. , 12.4, 18.5,  9. , 12. , 17.3, 12.9, 15.2],\n",
       "       [ 9.1, 17.2, 12.4,  0. , 12.7, 11. , 18. , 15.3,  5.5,  8.8],\n",
       "       [ 4.2,  6.1, 18.5, 12.7,  0. ,  9.5,  6.5,  3.2,  8.2,  3.9],\n",
       "       [ 6.9,  6.2,  9. , 11. ,  9.5,  0. ,  7. ,  8.3,  5.5,  6.2],\n",
       "       [10.5,  0.8, 12. , 18. ,  6.5,  7. ,  0. ,  5.3, 12.5, 10.2],\n",
       "       [ 7.4,  4.9, 17.3, 15.3,  3.2,  8.3,  5.3,  0. ,  9.8,  7.1],\n",
       "       [ 5.6, 11.7, 12.9,  5.5,  8.2,  5.5, 12.5,  9.8,  0. ,  4.9],\n",
       "       [ 0.7,  9.6, 15.2,  8.8,  3.9,  6.2, 10.2,  7.1,  4.9,  0. ]])"
      ]
     },
     "execution_count": 25,
     "metadata": {},
     "output_type": "execute_result"
    }
   ],
   "source": [
    "matrix_manhattan = distance_matrix_me(numeric_movies, 'manhattan')\n",
    "matrix_manhattan"
   ]
  },
  {
   "cell_type": "code",
   "execution_count": 26,
   "metadata": {},
   "outputs": [
    {
     "data": {
      "text/plain": [
       "array([[ 0. ,  9.9, 15.9,  9.1,  4.2,  6.9, 10.5,  7.4,  5.6,  0.7],\n",
       "       [ 9.9,  0. , 12.4, 17.2,  6.1,  6.2,  0.8,  4.9, 11.7,  9.6],\n",
       "       [15.9, 12.4,  0. , 12.4, 18.5,  9. , 12. , 17.3, 12.9, 15.2],\n",
       "       [ 9.1, 17.2, 12.4,  0. , 12.7, 11. , 18. , 15.3,  5.5,  8.8],\n",
       "       [ 4.2,  6.1, 18.5, 12.7,  0. ,  9.5,  6.5,  3.2,  8.2,  3.9],\n",
       "       [ 6.9,  6.2,  9. , 11. ,  9.5,  0. ,  7. ,  8.3,  5.5,  6.2],\n",
       "       [10.5,  0.8, 12. , 18. ,  6.5,  7. ,  0. ,  5.3, 12.5, 10.2],\n",
       "       [ 7.4,  4.9, 17.3, 15.3,  3.2,  8.3,  5.3,  0. ,  9.8,  7.1],\n",
       "       [ 5.6, 11.7, 12.9,  5.5,  8.2,  5.5, 12.5,  9.8,  0. ,  4.9],\n",
       "       [ 0.7,  9.6, 15.2,  8.8,  3.9,  6.2, 10.2,  7.1,  4.9,  0. ]])"
      ]
     },
     "execution_count": 26,
     "metadata": {},
     "output_type": "execute_result"
    }
   ],
   "source": [
    "matrix_manhattan_s = distance_matrix(numeric_movies, numeric_movies, p=1)\n",
    "matrix_manhattan_s"
   ]
  },
  {
   "attachments": {},
   "cell_type": "markdown",
   "metadata": {},
   "source": [
    "* Minkowski"
   ]
  },
  {
   "cell_type": "code",
   "execution_count": 27,
   "metadata": {},
   "outputs": [
    {
     "data": {
      "text/plain": [
       "array([[0.        , 6.11454916, 8.96172636, 5.54394546, 3.40437729,\n",
       "        4.46656704, 6.68384763, 4.6295514 , 3.3175072 , 0.35033981],\n",
       "       [6.11454916, 0.        , 6.61551294, 8.91622676, 5.30265679,\n",
       "        4.44782539, 0.60184617, 3.44987047, 7.19751071, 5.99198931],\n",
       "       [8.96172636, 6.61551294, 0.        , 8.20757777, 9.05835741,\n",
       "        5.39807888, 6.70039353, 8.35451129, 7.53154712, 8.6591381 ],\n",
       "       [5.54394546, 8.91622676, 8.20757777, 0.        , 8.16323517,\n",
       "        5.50007713, 9.29843886, 9.10987536, 3.13884524, 5.23095442],\n",
       "       [3.40437729, 5.30265679, 9.05835741, 8.16323517, 0.        ,\n",
       "        5.40218247, 5.9012063 , 1.99045451, 6.61112296, 3.60069431],\n",
       "       [4.46656704, 4.44782539, 5.39807888, 5.50007713, 5.40218247,\n",
       "        0.        , 4.62995573, 5.68731147, 3.61661558, 4.23745783],\n",
       "       [6.68384763, 0.60184617, 6.70039353, 9.29843886, 5.9012063 ,\n",
       "        4.62995573, 0.        , 4.02770352, 7.56130494, 6.55245911],\n",
       "       [4.6295514 , 3.44987047, 8.35451129, 9.10987536, 1.99045451,\n",
       "        5.68731147, 4.02770352, 0.        , 7.61874413, 4.76236483],\n",
       "       [3.3175072 , 7.19751071, 7.53154712, 3.13884524, 6.61112296,\n",
       "        3.61661558, 7.56130494, 7.61874413, 0.        , 3.06676249],\n",
       "       [0.35033981, 5.99198931, 8.6591381 , 5.23095442, 3.60069431,\n",
       "        4.23745783, 6.55245911, 4.76236483, 3.06676249, 0.        ]])"
      ]
     },
     "execution_count": 27,
     "metadata": {},
     "output_type": "execute_result"
    }
   ],
   "source": [
    "matrix_minkowski = distance_matrix_me(numeric_movies, 'minkowski')\n",
    "matrix_minkowski"
   ]
  },
  {
   "cell_type": "code",
   "execution_count": 28,
   "metadata": {},
   "outputs": [
    {
     "data": {
      "text/plain": [
       "array([[0.        , 6.11454916, 8.96172636, 5.54394546, 3.40437729,\n",
       "        4.46656704, 6.68384763, 4.6295514 , 3.3175072 , 0.35033981],\n",
       "       [6.11454916, 0.        , 6.61551294, 8.91622676, 5.30265679,\n",
       "        4.44782539, 0.60184617, 3.44987047, 7.19751071, 5.99198931],\n",
       "       [8.96172636, 6.61551294, 0.        , 8.20757777, 9.05835741,\n",
       "        5.39807888, 6.70039353, 8.35451129, 7.53154712, 8.6591381 ],\n",
       "       [5.54394546, 8.91622676, 8.20757777, 0.        , 8.16323517,\n",
       "        5.50007713, 9.29843886, 9.10987536, 3.13884524, 5.23095442],\n",
       "       [3.40437729, 5.30265679, 9.05835741, 8.16323517, 0.        ,\n",
       "        5.40218247, 5.9012063 , 1.99045451, 6.61112296, 3.60069431],\n",
       "       [4.46656704, 4.44782539, 5.39807888, 5.50007713, 5.40218247,\n",
       "        0.        , 4.62995573, 5.68731147, 3.61661558, 4.23745783],\n",
       "       [6.68384763, 0.60184617, 6.70039353, 9.29843886, 5.9012063 ,\n",
       "        4.62995573, 0.        , 4.02770352, 7.56130494, 6.55245911],\n",
       "       [4.6295514 , 3.44987047, 8.35451129, 9.10987536, 1.99045451,\n",
       "        5.68731147, 4.02770352, 0.        , 7.61874413, 4.76236483],\n",
       "       [3.3175072 , 7.19751071, 7.53154712, 3.13884524, 6.61112296,\n",
       "        3.61661558, 7.56130494, 7.61874413, 0.        , 3.06676249],\n",
       "       [0.35033981, 5.99198931, 8.6591381 , 5.23095442, 3.60069431,\n",
       "        4.23745783, 6.55245911, 4.76236483, 3.06676249, 0.        ]])"
      ]
     },
     "execution_count": 28,
     "metadata": {},
     "output_type": "execute_result"
    }
   ],
   "source": [
    "matrix_minkowski_s = distance_matrix(numeric_movies, numeric_movies, p=3)\n",
    "matrix_minkowski_s"
   ]
  },
  {
   "attachments": {},
   "cell_type": "markdown",
   "metadata": {},
   "source": [
    "Notamos que efectivamente la función que hicimos nos da los mismos resultados que la de **scipy.spatial.distance_matrix**"
   ]
  },
  {
   "attachments": {},
   "cell_type": "markdown",
   "metadata": {},
   "source": [
    "### Además, usando los métodos “dendrogram” y “linkage” construya un diagrama en forma de árbol (dendrograma) para el conjunto de datos en “movies.csv”.  Repita el proceso ahora usando algún esquema de normalización del rango de los datos.  "
   ]
  },
  {
   "cell_type": "code",
   "execution_count": 29,
   "metadata": {},
   "outputs": [],
   "source": [
    "from sklearn.preprocessing import StandardScaler, Normalizer\n",
    "n = Normalizer()\n",
    "datos_norm = n.fit_transform(numeric_movies)\n",
    "matrix_euclidean_norm = distance_matrix(datos_norm, datos_norm, p=2)"
   ]
  },
  {
   "attachments": {},
   "cell_type": "markdown",
   "metadata": {},
   "source": [
    "* Datos originales"
   ]
  },
  {
   "cell_type": "code",
   "execution_count": 30,
   "metadata": {},
   "outputs": [
    {
     "name": "stderr",
     "output_type": "stream",
     "text": [
      "/var/folders/8l/f787_tgj7sg6grwn27dvfx0h0000gn/T/ipykernel_51165/959327861.py:5: ClusterWarning: scipy.cluster: The symmetric non-negative hollow observation matrix looks suspiciously like an uncondensed distance matrix\n",
      "  Z = linkage(matrix_euclidean, 'ward')\n"
     ]
    },
    {
     "data": {
      "image/png": "[encoded data removed]",
      "text/plain": [
       "<Figure size 1000x500 with 1 Axes>"
      ]
     },
     "metadata": {},
     "output_type": "display_data"
    }
   ],
   "source": [
    "from scipy.cluster.hierarchy import linkage, dendrogram\n",
    "import matplotlib.pyplot as plt\n",
    "\n",
    "# Compute the linkage matrix using Ward's method\n",
    "Z = linkage(matrix_euclidean, 'ward') \n",
    "\n",
    "# Plot the dendrogram\n",
    "plt.figure(figsize=(10, 5))\n",
    "dendrogram(Z)\n",
    "plt.show()"
   ]
  },
  {
   "attachments": {},
   "cell_type": "markdown",
   "metadata": {},
   "source": [
    "* Datos Normalizados"
   ]
  },
  {
   "cell_type": "code",
   "execution_count": 31,
   "metadata": {},
   "outputs": [
    {
     "name": "stderr",
     "output_type": "stream",
     "text": [
      "/var/folders/8l/f787_tgj7sg6grwn27dvfx0h0000gn/T/ipykernel_51165/548979305.py:2: ClusterWarning: scipy.cluster: The symmetric non-negative hollow observation matrix looks suspiciously like an uncondensed distance matrix\n",
      "  Z = linkage(matrix_euclidean_norm, 'ward')\n"
     ]
    },
    {
     "data": {
      "image/png": "[encoded data removed]",
      "text/plain": [
       "<Figure size 1000x500 with 1 Axes>"
      ]
     },
     "metadata": {},
     "output_type": "display_data"
    }
   ],
   "source": [
    "# Compute the linkage matrix using Ward's method\n",
    "Z = linkage(matrix_euclidean_norm, 'ward')\n",
    "\n",
    "# Plot the dendrogram\n",
    "plt.figure(figsize=(10, 5))\n",
    "dendrogram(Z)\n",
    "plt.show()"
   ]
  },
  {
   "attachments": {},
   "cell_type": "markdown",
   "metadata": {},
   "source": [
    "* Datos Escalados"
   ]
  },
  {
   "cell_type": "code",
   "execution_count": 32,
   "metadata": {},
   "outputs": [
    {
     "name": "stderr",
     "output_type": "stream",
     "text": [
      "/var/folders/8l/f787_tgj7sg6grwn27dvfx0h0000gn/T/ipykernel_51165/1956143986.py:6: ClusterWarning: scipy.cluster: The symmetric non-negative hollow observation matrix looks suspiciously like an uncondensed distance matrix\n",
      "  Z = linkage(matrix_euclidean_norm, 'ward')\n"
     ]
    },
    {
     "data": {
      "image/png": "[encoded data removed]",
      "text/plain": [
       "<Figure size 1000x500 with 1 Axes>"
      ]
     },
     "metadata": {},
     "output_type": "display_data"
    }
   ],
   "source": [
    "sc = StandardScaler()\n",
    "datos_norm = sc.fit_transform(numeric_movies)\n",
    "matrix_euclidean_norm = distance_matrix(datos_norm, datos_norm, p=2)\n",
    "\n",
    "# Compute the linkage matrix using Ward's method\n",
    "Z = linkage(matrix_euclidean_norm, 'ward')\n",
    "\n",
    "# Plot the dendrogram\n",
    "plt.figure(figsize=(10, 5))\n",
    "dendrogram(Z)\n",
    "plt.show()"
   ]
  },
  {
   "attachments": {},
   "cell_type": "markdown",
   "metadata": {},
   "source": [
    "### i. ¿Qué diferencias puede encontrar en los resultados previos?"
   ]
  },
  {
   "attachments": {},
   "cell_type": "markdown",
   "metadata": {},
   "source": [
    "Notemos que a diferencia de los datos originales y los datos normalizados, las alturas del dendrograma cambia dependiendo también del tipo de normalización. En este caso la altura mínima la tiene la Normalización de los datos (cada uno con norma 1), posteriormente la estandarización (media cero y varianza uno). Al final en todos cambian los clústers."
   ]
  },
  {
   "attachments": {},
   "cell_type": "markdown",
   "metadata": {},
   "source": [
    "### ii. ¿En qué casos resulta importante llevar a cabo un proceso de normalización del rango de datos?"
   ]
  },
  {
   "attachments": {},
   "cell_type": "markdown",
   "metadata": {},
   "source": [
    "En el caso de que queramos implementar algún modelo de Machine Learning la normalización puede ayudar a mejorar la precisión del modelo y reducir la influencia de las variables con rangos de valores más grandes. Así mismo el escalar nuestros datos resulta importante si lo que haremos será comparar columnas que tienen datos en diferente magnitud.\n",
    "\n",
    "En estos casos el Normalizer lo que hace es normalizar nuestros datos llevándolos a una norma de uno (esto es útil en agrupamiento o análisis de similitud). Esto con la finalidad que que aquellos valores más grandes no dominen a los más pequeños. Por otra parte StandardScaler lo que hace es pasar nuestros datos a media cero y desviación estándar 1, esto para tener nuestros datos distribuidos normalmente (esto es útil en estadística o en modelos que asumen normalidad)."
   ]
  },
  {
   "attachments": {},
   "cell_type": "markdown",
   "metadata": {},
   "source": [
    "### iii. Consulte los diferentes tipos de distancias que se pueden usar como parámetro en el método “linkage”, ¿En qué características de los datos se podría basar uno para elegir una determinada distancia?."
   ]
  },
  {
   "attachments": {},
   "cell_type": "markdown",
   "metadata": {},
   "source": [
    "Basandonos en las características de nuestros datos podemos elegir una cierta métrica dentro de nuestro método \"*linkage*\", esto en general nos dice que tipo de distancia tomará para medir esta misma entre dos puntos (el parámetro *metric*, únicamente es usado cuando pasamos nuestros datos aún como una matrix con nuestros vectores (no de distancias)). \n",
    "\n",
    "* Si notamos que nuestros datos tienen valores atípicos, una métrica como las distancias Euclidianas o Manhattan no servirán de mucho (esto porque la media no es un valor representativo de la columna). En este caso es mejor Mahalanobis, etc."
   ]
  }
 ],
 "metadata": {
  "kernelspec": {
   "display_name": "base",
   "language": "python",
   "name": "python3"
  },
  "language_info": {
   "codemirror_mode": {
    "name": "ipython",
    "version": 3
   },
   "file_extension": ".py",
   "mimetype": "text/x-python",
   "name": "python",
   "nbconvert_exporter": "python",
   "pygments_lexer": "ipython3",
   "version": "3.9.13"
  },
  "orig_nbformat": 4
 },
 "nbformat": 4,
 "nbformat_minor": 2
}
